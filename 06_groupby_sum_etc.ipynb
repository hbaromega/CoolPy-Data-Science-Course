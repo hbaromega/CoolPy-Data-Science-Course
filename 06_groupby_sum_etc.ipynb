{
 "cells": [
  {
   "cell_type": "markdown",
   "metadata": {},
   "source": [
    "Pandas data aggregation"
   ]
  },
  {
   "cell_type": "code",
   "execution_count": 207,
   "metadata": {},
   "outputs": [],
   "source": [
    "import pandas as pd"
   ]
  },
  {
   "cell_type": "code",
   "execution_count": 208,
   "metadata": {},
   "outputs": [
    {
     "data": {
      "text/html": [
       "<div>\n",
       "<style scoped>\n",
       "    .dataframe tbody tr th:only-of-type {\n",
       "        vertical-align: middle;\n",
       "    }\n",
       "\n",
       "    .dataframe tbody tr th {\n",
       "        vertical-align: top;\n",
       "    }\n",
       "\n",
       "    .dataframe thead th {\n",
       "        text-align: right;\n",
       "    }\n",
       "</style>\n",
       "<table border=\"1\" class=\"dataframe\">\n",
       "  <thead>\n",
       "    <tr style=\"text-align: right;\">\n",
       "      <th></th>\n",
       "      <th>Item</th>\n",
       "      <th>Color</th>\n",
       "      <th>Price</th>\n",
       "    </tr>\n",
       "  </thead>\n",
       "  <tbody>\n",
       "    <tr>\n",
       "      <th>0</th>\n",
       "      <td>pen</td>\n",
       "      <td>green</td>\n",
       "      <td>5.5</td>\n",
       "    </tr>\n",
       "    <tr>\n",
       "      <th>1</th>\n",
       "      <td>pencil</td>\n",
       "      <td>red</td>\n",
       "      <td>4.0</td>\n",
       "    </tr>\n",
       "    <tr>\n",
       "      <th>2</th>\n",
       "      <td>pencil</td>\n",
       "      <td>green</td>\n",
       "      <td>3.0</td>\n",
       "    </tr>\n",
       "    <tr>\n",
       "      <th>3</th>\n",
       "      <td>eraser</td>\n",
       "      <td>white</td>\n",
       "      <td>1.0</td>\n",
       "    </tr>\n",
       "    <tr>\n",
       "      <th>4</th>\n",
       "      <td>pen</td>\n",
       "      <td>green</td>\n",
       "      <td>3.0</td>\n",
       "    </tr>\n",
       "    <tr>\n",
       "      <th>5</th>\n",
       "      <td>pen</td>\n",
       "      <td>white</td>\n",
       "      <td>1.0</td>\n",
       "    </tr>\n",
       "  </tbody>\n",
       "</table>\n",
       "</div>"
      ],
      "text/plain": [
       "     Item  Color  Price\n",
       "0     pen  green    5.5\n",
       "1  pencil    red    4.0\n",
       "2  pencil  green    3.0\n",
       "3  eraser  white    1.0\n",
       "4     pen  green    3.0\n",
       "5     pen  white    1.0"
      ]
     },
     "execution_count": 208,
     "metadata": {},
     "output_type": "execute_result"
    }
   ],
   "source": [
    "df = pd.DataFrame({ \n",
    "                   'Item': ['pen', 'pencil', 'pencil', 'eraser', 'pen', 'pen'],\n",
    "                   'Color': ['green', 'red', 'green', 'white', 'green', 'white'],\n",
    "                   'Price' : [5.50, 4.00, 3.00, 1.00, 3.00, 1.00]\n",
    "                         })\n",
    "\n",
    "df"
   ]
  },
  {
   "cell_type": "markdown",
   "metadata": {},
   "source": [
    "`count`"
   ]
  },
  {
   "cell_type": "code",
   "execution_count": 209,
   "metadata": {},
   "outputs": [
    {
     "name": "stdout",
     "output_type": "stream",
     "text": [
      "Total number of items: 6 \n",
      "\n",
      "Total number of colors: 6\n"
     ]
    }
   ],
   "source": [
    "c = df.Item.count()\n",
    "print('Total number of items:',c,'\\n')\n",
    "\n",
    "c = df.Color.count()\n",
    "print('Total number of colors:',c)"
   ]
  },
  {
   "cell_type": "markdown",
   "metadata": {},
   "source": [
    "`sum`"
   ]
  },
  {
   "cell_type": "code",
   "execution_count": 210,
   "metadata": {},
   "outputs": [
    {
     "data": {
      "text/plain": [
       "Item      penpencilpencileraserpenpen\n",
       "Color    greenredgreenwhitegreenwhite\n",
       "Price                            17.5\n",
       "dtype: object"
      ]
     },
     "metadata": {},
     "output_type": "display_data"
    },
    {
     "name": "stdout",
     "output_type": "stream",
     "text": [
      "Total price = 17.5\n"
     ]
    }
   ],
   "source": [
    "display(df.sum())\n",
    "\n",
    "print('Total price =', df.Price.sum())\n"
   ]
  },
  {
   "cell_type": "markdown",
   "metadata": {},
   "source": [
    "`min` and `max`"
   ]
  },
  {
   "cell_type": "code",
   "execution_count": 228,
   "metadata": {},
   "outputs": [
    {
     "name": "stdout",
     "output_type": "stream",
     "text": [
      "Maximum price: 5.5\n",
      "Items most in number: 5.5\n",
      "\"5.5\" has occurred 1 time(s) in the Item column.\n",
      "\n",
      "Minimum price: 1.0 \n",
      "\n",
      "\"1.0\" has occurred 2 time(s) in the Item column.\n",
      "\"pen\" has occurred 3 time(s) in the Item column.\n"
     ]
    }
   ],
   "source": [
    "max = df.Price.max()\n",
    "print('Maximum price:',max)\n",
    "n_occur = df.Price.value_counts()[max]\n",
    "print('Items most in number:',max)\n",
    "print(f'\"{max}\" has occurred {n_occur} time(s) in the Item column.\\n')\n",
    "#'''\n",
    "\n",
    "min = df.Price.min()\n",
    "print('Minimum price:',min,'\\n')\n",
    "\n",
    "# Count the value of occurences using `value_counts()`\n",
    "n_occur = df.Price.value_counts()[min]\n",
    "# print(df['Item'].value_counts()['eraser']) # will also work if uncommented\n",
    "print(f'\"{min}\" has occurred {n_occur} time(s) in the Item column.')\n",
    "\n",
    "n_occur = df.Item.value_counts()['pen']\n",
    "print(f'\"pen\" has occurred {n_occur} time(s) in the Item column.')\n",
    "\n",
    "\n"
   ]
  },
  {
   "cell_type": "markdown",
   "metadata": {},
   "source": [
    "`mean`, `median`, and `mode`:"
   ]
  },
  {
   "cell_type": "code",
   "execution_count": 245,
   "metadata": {},
   "outputs": [
    {
     "name": "stdout",
     "output_type": "stream",
     "text": [
      "Average Price = 2.9166666666666665\n",
      "Median value of Price = 3.0 \n",
      "\n",
      "Mode for entire DataFrame:\n"
     ]
    },
    {
     "data": {
      "text/html": [
       "<div>\n",
       "<style scoped>\n",
       "    .dataframe tbody tr th:only-of-type {\n",
       "        vertical-align: middle;\n",
       "    }\n",
       "\n",
       "    .dataframe tbody tr th {\n",
       "        vertical-align: top;\n",
       "    }\n",
       "\n",
       "    .dataframe thead th {\n",
       "        text-align: right;\n",
       "    }\n",
       "</style>\n",
       "<table border=\"1\" class=\"dataframe\">\n",
       "  <thead>\n",
       "    <tr style=\"text-align: right;\">\n",
       "      <th></th>\n",
       "      <th>Item</th>\n",
       "      <th>Color</th>\n",
       "      <th>Price</th>\n",
       "    </tr>\n",
       "  </thead>\n",
       "  <tbody>\n",
       "    <tr>\n",
       "      <th>0</th>\n",
       "      <td>pen</td>\n",
       "      <td>green</td>\n",
       "      <td>1.0</td>\n",
       "    </tr>\n",
       "    <tr>\n",
       "      <th>1</th>\n",
       "      <td>NaN</td>\n",
       "      <td>NaN</td>\n",
       "      <td>3.0</td>\n",
       "    </tr>\n",
       "  </tbody>\n",
       "</table>\n",
       "</div>"
      ],
      "text/plain": [
       "  Item  Color  Price\n",
       "0  pen  green    1.0\n",
       "1  NaN    NaN    3.0"
      ]
     },
     "metadata": {},
     "output_type": "display_data"
    },
    {
     "name": "stdout",
     "output_type": "stream",
     "text": [
      "Mode of color:\n"
     ]
    },
    {
     "data": {
      "text/plain": [
       "0    green\n",
       "1      NaN\n",
       "Name: Color, dtype: object"
      ]
     },
     "metadata": {},
     "output_type": "display_data"
    },
    {
     "data": {
      "text/plain": [
       "0    green\n",
       "Name: Color, dtype: object"
      ]
     },
     "metadata": {},
     "output_type": "display_data"
    },
    {
     "name": "stdout",
     "output_type": "stream",
     "text": [
      "`mode` creates a DatFrame/Series.\n",
      "Converting the mode for Color (Series) to a list\n",
      "lst = ['green']\n",
      "From this single item list `lst`, printing its element (value of the mode):\n",
      "Most occurred Color (mode value)= green\n"
     ]
    },
    {
     "data": {
      "text/plain": [
       "'Mode Series of Price:'"
      ]
     },
     "metadata": {},
     "output_type": "display_data"
    },
    {
     "data": {
      "text/plain": [
       "0    1.0\n",
       "1    3.0\n",
       "Name: Price, dtype: float64"
      ]
     },
     "metadata": {},
     "output_type": "display_data"
    },
    {
     "name": "stdout",
     "output_type": "stream",
     "text": [
      "In case of Price, we have multiple modes. Hence 2 index values.\n",
      "Mode value(s) of Price = 1.0 3.0\n"
     ]
    },
    {
     "data": {
      "text/plain": [
       "'Mode Series of Item:'"
      ]
     },
     "metadata": {},
     "output_type": "display_data"
    },
    {
     "data": {
      "text/plain": [
       "0    1.0\n",
       "1    3.0\n",
       "Name: Price, dtype: float64"
      ]
     },
     "metadata": {},
     "output_type": "display_data"
    },
    {
     "name": "stdout",
     "output_type": "stream",
     "text": [
      "Mode value(s) of Item = pen\n"
     ]
    }
   ],
   "source": [
    "print('Average Price =',df.Price.mean())\n",
    "#print(df.Color.mean()) #throws error\n",
    "\n",
    "print('Median value of Price =',df.Price.median(),'\\n')\n",
    "\n",
    "print('Mode for entire DataFrame:')\n",
    "display(df.mode())\n",
    "\n",
    "print('Mode of color:')\n",
    "display(df.mode()['Color'])\n",
    "display(df.Color.mode())\n",
    "\n",
    "print('`mode` creates a DatFrame/Series.')\n",
    "print('Converting the mode for Color (Series) to a list')\n",
    "lst = df.Color.mode().to_list()\n",
    "print('lst =',lst)\n",
    "print('From this single item list `lst`, printing its element (value of the mode):')\n",
    "print('Most occurred Color (mode value)=',lst[0])\n",
    "\n",
    "display('Mode Series of Price:',df.Price.mode())\n",
    "print('In case of Price, we have multiple modes. Hence 2 index values.')\n",
    "print('Mode value(s) of Price =',*df.Price.mode().to_list()) # `*list` produces items of `list`. \n",
    "\n",
    "display('Mode Series of Item:',df.Price.mode())\n",
    "print('Mode value(s) of Item =',*df.Item.mode().to_list()) \n",
    "\n",
    "\n",
    "\n"
   ]
  },
  {
   "cell_type": "markdown",
   "metadata": {},
   "source": [
    "<font color='grey'> Pandas `groupby` method is its \"divide-and-rule\"  mechanism. Using this method, we can group data based on a category or value. Using `groupby`, we can perform split-apply-combine on a dataset:\\\n",
    "\\\n",
    " <span style=\"color:magenta\">*Splitting*:</span> Division into groups of datasets.\\\n",
    " <span style=\"color:magenta\">*Applying*:</span> Application of function on each group.\\\n",
    " <span style=\"color:magenta\">*Combining*:</span> Combination of all results obtained from different groups. </font>\n",
    "\n",
    "\n",
    "*Syntax:\\\n",
    "DataFrame.groupby(by=None, axis=_NoDefault.no_default, level=None, as_index=True, sort=True, group_keys=True, observed=_NoDefault.no_default, dropna=True)\\\n",
    "by => mapping, function, label, pd.Grouper or list of such.\n",
    "*\n",
    "\n",
    "For more details, visit: https://pandas.pydata.org/pandas-docs/stable/reference/api/pandas.DataFrame.groupby.html\n"
   ]
  },
  {
   "cell_type": "code",
   "execution_count": 213,
   "metadata": {},
   "outputs": [
    {
     "name": "stdout",
     "output_type": "stream",
     "text": [
      "<pandas.core.groupby.generic.DataFrameGroupBy object at 0x120b03a90>  <pandas.core.groupby.generic.DataFrameGroupBy object at 0x11d3ebfd0>\n",
      "{'eraser': [3], 'pen': [0, 4, 5], 'pencil': [1, 2]} \n",
      " {'green': [0, 2, 4], 'red': [1], 'white': [3, 5]}\n"
     ]
    }
   ],
   "source": [
    "#g = df['Item'].groupby(df['Color'])\n",
    "g0 = df.groupby(['Item'])\n",
    "g1 = df.groupby('Color')\n",
    "print(g0, g1, sep='  ', end='\\n')\n",
    "print(g0.groups,'\\n',g1.groups)\n"
   ]
  },
  {
   "cell_type": "markdown",
   "metadata": {},
   "source": [
    "Let's combine `groupby` with other aggregating method."
   ]
  },
  {
   "cell_type": "markdown",
   "metadata": {},
   "source": [
    "`groupby` and `count`"
   ]
  },
  {
   "cell_type": "code",
   "execution_count": 214,
   "metadata": {},
   "outputs": [
    {
     "name": "stdout",
     "output_type": "stream",
     "text": [
      "Grouping items and counting:\n",
      "Method 0: `as_index=True` (default)\n",
      "Method 1: `as_index=False`\n"
     ]
    },
    {
     "data": {
      "text/html": [
       "<div>\n",
       "<style scoped>\n",
       "    .dataframe tbody tr th:only-of-type {\n",
       "        vertical-align: middle;\n",
       "    }\n",
       "\n",
       "    .dataframe tbody tr th {\n",
       "        vertical-align: top;\n",
       "    }\n",
       "\n",
       "    .dataframe thead th {\n",
       "        text-align: right;\n",
       "    }\n",
       "</style>\n",
       "<table border=\"1\" class=\"dataframe\">\n",
       "  <thead>\n",
       "    <tr style=\"text-align: right;\">\n",
       "      <th></th>\n",
       "      <th>Item</th>\n",
       "      <th>Color</th>\n",
       "      <th>Price</th>\n",
       "    </tr>\n",
       "  </thead>\n",
       "  <tbody>\n",
       "    <tr>\n",
       "      <th>0</th>\n",
       "      <td>eraser</td>\n",
       "      <td>1</td>\n",
       "      <td>1</td>\n",
       "    </tr>\n",
       "    <tr>\n",
       "      <th>1</th>\n",
       "      <td>pen</td>\n",
       "      <td>3</td>\n",
       "      <td>3</td>\n",
       "    </tr>\n",
       "    <tr>\n",
       "      <th>2</th>\n",
       "      <td>pencil</td>\n",
       "      <td>2</td>\n",
       "      <td>2</td>\n",
       "    </tr>\n",
       "  </tbody>\n",
       "</table>\n",
       "</div>"
      ],
      "text/plain": [
       "     Item  Color  Price\n",
       "0  eraser      1      1\n",
       "1     pen      3      3\n",
       "2  pencil      2      2"
      ]
     },
     "metadata": {},
     "output_type": "display_data"
    },
    {
     "name": "stdout",
     "output_type": "stream",
     "text": [
      "Since counted irrespective of colors,\n",
      " we create a new DataFrame and rename \"Color\" by \"Quantity\".\n"
     ]
    },
    {
     "data": {
      "text/html": [
       "<div>\n",
       "<style scoped>\n",
       "    .dataframe tbody tr th:only-of-type {\n",
       "        vertical-align: middle;\n",
       "    }\n",
       "\n",
       "    .dataframe tbody tr th {\n",
       "        vertical-align: top;\n",
       "    }\n",
       "\n",
       "    .dataframe thead th {\n",
       "        text-align: right;\n",
       "    }\n",
       "</style>\n",
       "<table border=\"1\" class=\"dataframe\">\n",
       "  <thead>\n",
       "    <tr style=\"text-align: right;\">\n",
       "      <th></th>\n",
       "      <th>Item</th>\n",
       "      <th>Quantity</th>\n",
       "      <th>Price</th>\n",
       "    </tr>\n",
       "  </thead>\n",
       "  <tbody>\n",
       "    <tr>\n",
       "      <th>0</th>\n",
       "      <td>eraser</td>\n",
       "      <td>1</td>\n",
       "      <td>1</td>\n",
       "    </tr>\n",
       "    <tr>\n",
       "      <th>1</th>\n",
       "      <td>pen</td>\n",
       "      <td>3</td>\n",
       "      <td>3</td>\n",
       "    </tr>\n",
       "    <tr>\n",
       "      <th>2</th>\n",
       "      <td>pencil</td>\n",
       "      <td>2</td>\n",
       "      <td>2</td>\n",
       "    </tr>\n",
       "  </tbody>\n",
       "</table>\n",
       "</div>"
      ],
      "text/plain": [
       "     Item  Quantity  Price\n",
       "0  eraser         1      1\n",
       "1     pen         3      3\n",
       "2  pencil         2      2"
      ]
     },
     "metadata": {},
     "output_type": "display_data"
    }
   ],
   "source": [
    "print('Grouping items and counting:')\n",
    "print('Method 0: `as_index=True` (default)')\n",
    "df1 = df.copy()\n",
    "df2 = df1.groupby('Item').count()\n",
    "df2.index.name = None\n",
    "df2.columns.name = 'Item'\n",
    "df2 = df2.rename(columns={'Color':'Quantity'})\n",
    "df2\n",
    "\n",
    "print('Method 1: `as_index=False`')\n",
    "df2 = df1.groupby('Item', as_index=False).count()\n",
    "display(df2)\n",
    "print('Since counted irrespective of colors,\\n \\\n",
    "we create a new DataFrame and rename \"Color\" by \"Quantity\".')\n",
    "df2 = df2.rename(columns={'Color':'Quantity'}) \n",
    "display(df2)"
   ]
  },
  {
   "cell_type": "markdown",
   "metadata": {},
   "source": [
    "`groupby` and `sum`"
   ]
  },
  {
   "cell_type": "code",
   "execution_count": 215,
   "metadata": {},
   "outputs": [
    {
     "data": {
      "text/html": [
       "<div>\n",
       "<style scoped>\n",
       "    .dataframe tbody tr th:only-of-type {\n",
       "        vertical-align: middle;\n",
       "    }\n",
       "\n",
       "    .dataframe tbody tr th {\n",
       "        vertical-align: top;\n",
       "    }\n",
       "\n",
       "    .dataframe thead th {\n",
       "        text-align: right;\n",
       "    }\n",
       "</style>\n",
       "<table border=\"1\" class=\"dataframe\">\n",
       "  <thead>\n",
       "    <tr style=\"text-align: right;\">\n",
       "      <th></th>\n",
       "      <th>Item</th>\n",
       "      <th>Color</th>\n",
       "      <th>Price</th>\n",
       "    </tr>\n",
       "  </thead>\n",
       "  <tbody>\n",
       "    <tr>\n",
       "      <th>0</th>\n",
       "      <td>eraser</td>\n",
       "      <td>white</td>\n",
       "      <td>1.0</td>\n",
       "    </tr>\n",
       "    <tr>\n",
       "      <th>1</th>\n",
       "      <td>pen</td>\n",
       "      <td>greengreenwhite</td>\n",
       "      <td>9.5</td>\n",
       "    </tr>\n",
       "    <tr>\n",
       "      <th>2</th>\n",
       "      <td>pencil</td>\n",
       "      <td>redgreen</td>\n",
       "      <td>7.0</td>\n",
       "    </tr>\n",
       "  </tbody>\n",
       "</table>\n",
       "</div>"
      ],
      "text/plain": [
       "     Item            Color  Price\n",
       "0  eraser            white    1.0\n",
       "1     pen  greengreenwhite    9.5\n",
       "2  pencil         redgreen    7.0"
      ]
     },
     "metadata": {},
     "output_type": "display_data"
    },
    {
     "name": "stdout",
     "output_type": "stream",
     "text": [
      "   Color          Item  Price\n",
      "0  green  penpencilpen   11.5\n",
      "1    red        pencil    4.0\n",
      "2  white     eraserpen    2.0\n",
      "\n",
      "                  Color  Price\n",
      "Item                          \n",
      "eraser            white    1.0\n",
      "pen     greengreenwhite    9.5\n",
      "pencil         redgreen    7.0\n",
      "        Price\n",
      "Item         \n",
      "eraser    1.0\n",
      "pen       9.5\n",
      "pencil    7.0\n"
     ]
    }
   ],
   "source": [
    "df1 = df.copy()\n",
    "\n",
    "df1 = df.groupby('Item', as_index=False).sum()\n",
    "display(df1)\n",
    "\n",
    "\n",
    "g = df.groupby(['Color'], as_index=False)\n",
    "print(g.sum())\n",
    "print()\n",
    "\n",
    "group = df.groupby(['Item'])\n",
    "print(group.sum())\n",
    "print(group.sum(numeric_only=True))\n"
   ]
  },
  {
   "cell_type": "markdown",
   "metadata": {},
   "source": [
    "`groupby` and `mean`"
   ]
  },
  {
   "cell_type": "code",
   "execution_count": 216,
   "metadata": {},
   "outputs": [
    {
     "data": {
      "text/html": [
       "<div>\n",
       "<style scoped>\n",
       "    .dataframe tbody tr th:only-of-type {\n",
       "        vertical-align: middle;\n",
       "    }\n",
       "\n",
       "    .dataframe tbody tr th {\n",
       "        vertical-align: top;\n",
       "    }\n",
       "\n",
       "    .dataframe thead th {\n",
       "        text-align: right;\n",
       "    }\n",
       "</style>\n",
       "<table border=\"1\" class=\"dataframe\">\n",
       "  <thead>\n",
       "    <tr style=\"text-align: right;\">\n",
       "      <th></th>\n",
       "      <th>Price</th>\n",
       "    </tr>\n",
       "    <tr>\n",
       "      <th>Item</th>\n",
       "      <th></th>\n",
       "    </tr>\n",
       "  </thead>\n",
       "  <tbody>\n",
       "    <tr>\n",
       "      <th>eraser</th>\n",
       "      <td>1.000000</td>\n",
       "    </tr>\n",
       "    <tr>\n",
       "      <th>pen</th>\n",
       "      <td>3.166667</td>\n",
       "    </tr>\n",
       "    <tr>\n",
       "      <th>pencil</th>\n",
       "      <td>3.500000</td>\n",
       "    </tr>\n",
       "  </tbody>\n",
       "</table>\n",
       "</div>"
      ],
      "text/plain": [
       "           Price\n",
       "Item            \n",
       "eraser  1.000000\n",
       "pen     3.166667\n",
       "pencil  3.500000"
      ]
     },
     "execution_count": 216,
     "metadata": {},
     "output_type": "execute_result"
    }
   ],
   "source": [
    "g =df.groupby('Item').mean(numeric_only=True)\n",
    "g"
   ]
  },
  {
   "cell_type": "markdown",
   "metadata": {},
   "source": [
    "`groupby` and `agg`"
   ]
  },
  {
   "cell_type": "code",
   "execution_count": 217,
   "metadata": {},
   "outputs": [
    {
     "data": {
      "text/html": [
       "<div>\n",
       "<style scoped>\n",
       "    .dataframe tbody tr th:only-of-type {\n",
       "        vertical-align: middle;\n",
       "    }\n",
       "\n",
       "    .dataframe tbody tr th {\n",
       "        vertical-align: top;\n",
       "    }\n",
       "\n",
       "    .dataframe thead tr th {\n",
       "        text-align: left;\n",
       "    }\n",
       "\n",
       "    .dataframe thead tr:last-of-type th {\n",
       "        text-align: right;\n",
       "    }\n",
       "</style>\n",
       "<table border=\"1\" class=\"dataframe\">\n",
       "  <thead>\n",
       "    <tr>\n",
       "      <th></th>\n",
       "      <th colspan=\"2\" halign=\"left\">Color</th>\n",
       "      <th>Price</th>\n",
       "    </tr>\n",
       "    <tr>\n",
       "      <th></th>\n",
       "      <th>min</th>\n",
       "      <th>max</th>\n",
       "      <th>mean</th>\n",
       "    </tr>\n",
       "    <tr>\n",
       "      <th>Item</th>\n",
       "      <th></th>\n",
       "      <th></th>\n",
       "      <th></th>\n",
       "    </tr>\n",
       "  </thead>\n",
       "  <tbody>\n",
       "    <tr>\n",
       "      <th>eraser</th>\n",
       "      <td>white</td>\n",
       "      <td>white</td>\n",
       "      <td>1.000000</td>\n",
       "    </tr>\n",
       "    <tr>\n",
       "      <th>pen</th>\n",
       "      <td>green</td>\n",
       "      <td>white</td>\n",
       "      <td>3.166667</td>\n",
       "    </tr>\n",
       "    <tr>\n",
       "      <th>pencil</th>\n",
       "      <td>green</td>\n",
       "      <td>red</td>\n",
       "      <td>3.500000</td>\n",
       "    </tr>\n",
       "  </tbody>\n",
       "</table>\n",
       "</div>"
      ],
      "text/plain": [
       "        Color            Price\n",
       "          min    max      mean\n",
       "Item                          \n",
       "eraser  white  white  1.000000\n",
       "pen     green  white  3.166667\n",
       "pencil  green    red  3.500000"
      ]
     },
     "execution_count": 217,
     "metadata": {},
     "output_type": "execute_result"
    }
   ],
   "source": [
    "g =df.groupby('Item').agg({'Color': ['min', 'max'], 'Price': 'mean'})\n",
    "g"
   ]
  },
  {
   "cell_type": "markdown",
   "metadata": {},
   "source": [
    "`groupby` and `transform`:"
   ]
  },
  {
   "cell_type": "code",
   "execution_count": 218,
   "metadata": {},
   "outputs": [
    {
     "name": "stdout",
     "output_type": "stream",
     "text": [
      "Creating a new column with average price:\n"
     ]
    },
    {
     "data": {
      "text/html": [
       "<div>\n",
       "<style scoped>\n",
       "    .dataframe tbody tr th:only-of-type {\n",
       "        vertical-align: middle;\n",
       "    }\n",
       "\n",
       "    .dataframe tbody tr th {\n",
       "        vertical-align: top;\n",
       "    }\n",
       "\n",
       "    .dataframe thead th {\n",
       "        text-align: right;\n",
       "    }\n",
       "</style>\n",
       "<table border=\"1\" class=\"dataframe\">\n",
       "  <thead>\n",
       "    <tr style=\"text-align: right;\">\n",
       "      <th></th>\n",
       "      <th>Item</th>\n",
       "      <th>Color</th>\n",
       "      <th>Price</th>\n",
       "      <th>Mean Price</th>\n",
       "    </tr>\n",
       "  </thead>\n",
       "  <tbody>\n",
       "    <tr>\n",
       "      <th>0</th>\n",
       "      <td>pen</td>\n",
       "      <td>green</td>\n",
       "      <td>5.5</td>\n",
       "      <td>3.166667</td>\n",
       "    </tr>\n",
       "    <tr>\n",
       "      <th>1</th>\n",
       "      <td>pencil</td>\n",
       "      <td>red</td>\n",
       "      <td>4.0</td>\n",
       "      <td>3.500000</td>\n",
       "    </tr>\n",
       "    <tr>\n",
       "      <th>2</th>\n",
       "      <td>pencil</td>\n",
       "      <td>green</td>\n",
       "      <td>3.0</td>\n",
       "      <td>3.500000</td>\n",
       "    </tr>\n",
       "    <tr>\n",
       "      <th>3</th>\n",
       "      <td>eraser</td>\n",
       "      <td>white</td>\n",
       "      <td>1.0</td>\n",
       "      <td>1.000000</td>\n",
       "    </tr>\n",
       "    <tr>\n",
       "      <th>4</th>\n",
       "      <td>pen</td>\n",
       "      <td>green</td>\n",
       "      <td>3.0</td>\n",
       "      <td>3.166667</td>\n",
       "    </tr>\n",
       "    <tr>\n",
       "      <th>5</th>\n",
       "      <td>pen</td>\n",
       "      <td>white</td>\n",
       "      <td>1.0</td>\n",
       "      <td>3.166667</td>\n",
       "    </tr>\n",
       "  </tbody>\n",
       "</table>\n",
       "</div>"
      ],
      "text/plain": [
       "     Item  Color  Price  Mean Price\n",
       "0     pen  green    5.5    3.166667\n",
       "1  pencil    red    4.0    3.500000\n",
       "2  pencil  green    3.0    3.500000\n",
       "3  eraser  white    1.0    1.000000\n",
       "4     pen  green    3.0    3.166667\n",
       "5     pen  white    1.0    3.166667"
      ]
     },
     "execution_count": 218,
     "metadata": {},
     "output_type": "execute_result"
    }
   ],
   "source": [
    "df1 = df.copy()\n",
    "print('Creating a new column with average price:')\n",
    "df1['Mean Price'] = df1.groupby('Item')['Price'].transform('mean')\n",
    "df1"
   ]
  },
  {
   "cell_type": "markdown",
   "metadata": {},
   "source": [
    "`groupby` and `filter`:"
   ]
  },
  {
   "cell_type": "code",
   "execution_count": 219,
   "metadata": {},
   "outputs": [
    {
     "data": {
      "text/html": [
       "<div>\n",
       "<style scoped>\n",
       "    .dataframe tbody tr th:only-of-type {\n",
       "        vertical-align: middle;\n",
       "    }\n",
       "\n",
       "    .dataframe tbody tr th {\n",
       "        vertical-align: top;\n",
       "    }\n",
       "\n",
       "    .dataframe thead th {\n",
       "        text-align: right;\n",
       "    }\n",
       "</style>\n",
       "<table border=\"1\" class=\"dataframe\">\n",
       "  <thead>\n",
       "    <tr style=\"text-align: right;\">\n",
       "      <th></th>\n",
       "      <th>Item</th>\n",
       "      <th>Color</th>\n",
       "      <th>Price</th>\n",
       "    </tr>\n",
       "  </thead>\n",
       "  <tbody>\n",
       "    <tr>\n",
       "      <th>0</th>\n",
       "      <td>pen</td>\n",
       "      <td>green</td>\n",
       "      <td>5.5</td>\n",
       "    </tr>\n",
       "    <tr>\n",
       "      <th>1</th>\n",
       "      <td>pencil</td>\n",
       "      <td>red</td>\n",
       "      <td>4.0</td>\n",
       "    </tr>\n",
       "    <tr>\n",
       "      <th>2</th>\n",
       "      <td>pencil</td>\n",
       "      <td>green</td>\n",
       "      <td>3.0</td>\n",
       "    </tr>\n",
       "    <tr>\n",
       "      <th>4</th>\n",
       "      <td>pen</td>\n",
       "      <td>green</td>\n",
       "      <td>3.0</td>\n",
       "    </tr>\n",
       "    <tr>\n",
       "      <th>5</th>\n",
       "      <td>pen</td>\n",
       "      <td>white</td>\n",
       "      <td>1.0</td>\n",
       "    </tr>\n",
       "  </tbody>\n",
       "</table>\n",
       "</div>"
      ],
      "text/plain": [
       "     Item  Color  Price\n",
       "0     pen  green    5.5\n",
       "1  pencil    red    4.0\n",
       "2  pencil  green    3.0\n",
       "4     pen  green    3.0\n",
       "5     pen  white    1.0"
      ]
     },
     "metadata": {},
     "output_type": "display_data"
    }
   ],
   "source": [
    "\n",
    "df1 =df.copy()\n",
    "g = df.groupby('Item')\n",
    "df2 = g.filter(lambda x: x['Price'].mean() > 3.)\n",
    "display(df2)\n"
   ]
  },
  {
   "cell_type": "markdown",
   "metadata": {},
   "source": [
    "`groupby` and `apply`:"
   ]
  },
  {
   "cell_type": "code",
   "execution_count": 220,
   "metadata": {},
   "outputs": [
    {
     "name": "stdout",
     "output_type": "stream",
     "text": [
      "Item     \n",
      "eraser  3    11.0\n",
      "pen     0    15.5\n",
      "        4    13.0\n",
      "        5    11.0\n",
      "pencil  1    14.0\n",
      "        2    13.0\n",
      "Name: Price, dtype: float64\n"
     ]
    },
    {
     "data": {
      "text/plain": [
       "0    15.5\n",
       "1    14.0\n",
       "2    13.0\n",
       "3    11.0\n",
       "4    13.0\n",
       "5    11.0\n",
       "Name: Price, dtype: float64"
      ]
     },
     "execution_count": 220,
     "metadata": {},
     "output_type": "execute_result"
    }
   ],
   "source": [
    "def plus10(x):\n",
    "    return x+10\n",
    "  \n",
    "\n",
    "df1 =df.copy()\n",
    "g = df.groupby('Item')['Price'].apply(plus10)\n",
    "print(g)\n",
    "\n",
    "g = df.groupby('Item')['Price'].transform(plus10)\n",
    "g"
   ]
  },
  {
   "cell_type": "markdown",
   "metadata": {},
   "source": [
    "`groupby` and `getgroup` (to be deprecated):"
   ]
  },
  {
   "cell_type": "code",
   "execution_count": 221,
   "metadata": {},
   "outputs": [
    {
     "data": {
      "text/plain": [
       "<pandas.core.groupby.generic.DataFrameGroupBy object at 0x11ebd1150>"
      ]
     },
     "metadata": {},
     "output_type": "display_data"
    },
    {
     "data": {
      "text/html": [
       "<div>\n",
       "<style scoped>\n",
       "    .dataframe tbody tr th:only-of-type {\n",
       "        vertical-align: middle;\n",
       "    }\n",
       "\n",
       "    .dataframe tbody tr th {\n",
       "        vertical-align: top;\n",
       "    }\n",
       "\n",
       "    .dataframe thead th {\n",
       "        text-align: right;\n",
       "    }\n",
       "</style>\n",
       "<table border=\"1\" class=\"dataframe\">\n",
       "  <thead>\n",
       "    <tr style=\"text-align: right;\">\n",
       "      <th></th>\n",
       "      <th>Item</th>\n",
       "      <th>Color</th>\n",
       "      <th>Price</th>\n",
       "    </tr>\n",
       "  </thead>\n",
       "  <tbody>\n",
       "    <tr>\n",
       "      <th>0</th>\n",
       "      <td>pen</td>\n",
       "      <td>green</td>\n",
       "      <td>5.5</td>\n",
       "    </tr>\n",
       "    <tr>\n",
       "      <th>4</th>\n",
       "      <td>pen</td>\n",
       "      <td>green</td>\n",
       "      <td>3.0</td>\n",
       "    </tr>\n",
       "    <tr>\n",
       "      <th>5</th>\n",
       "      <td>pen</td>\n",
       "      <td>white</td>\n",
       "      <td>1.0</td>\n",
       "    </tr>\n",
       "  </tbody>\n",
       "</table>\n",
       "</div>"
      ],
      "text/plain": [
       "  Item  Color  Price\n",
       "0  pen  green    5.5\n",
       "4  pen  green    3.0\n",
       "5  pen  white    1.0"
      ]
     },
     "metadata": {},
     "output_type": "display_data"
    },
    {
     "data": {
      "text/plain": [
       "<pandas.core.groupby.generic.DataFrameGroupBy object at 0x12085e790>"
      ]
     },
     "metadata": {},
     "output_type": "display_data"
    },
    {
     "data": {
      "text/html": [
       "<div>\n",
       "<style scoped>\n",
       "    .dataframe tbody tr th:only-of-type {\n",
       "        vertical-align: middle;\n",
       "    }\n",
       "\n",
       "    .dataframe tbody tr th {\n",
       "        vertical-align: top;\n",
       "    }\n",
       "\n",
       "    .dataframe thead th {\n",
       "        text-align: right;\n",
       "    }\n",
       "</style>\n",
       "<table border=\"1\" class=\"dataframe\">\n",
       "  <thead>\n",
       "    <tr style=\"text-align: right;\">\n",
       "      <th></th>\n",
       "      <th>Item</th>\n",
       "      <th>Color</th>\n",
       "    </tr>\n",
       "  </thead>\n",
       "  <tbody>\n",
       "    <tr>\n",
       "      <th>1</th>\n",
       "      <td>pencil</td>\n",
       "      <td>red</td>\n",
       "    </tr>\n",
       "    <tr>\n",
       "      <th>2</th>\n",
       "      <td>pencil</td>\n",
       "      <td>green</td>\n",
       "    </tr>\n",
       "  </tbody>\n",
       "</table>\n",
       "</div>"
      ],
      "text/plain": [
       "     Item  Color\n",
       "1  pencil    red\n",
       "2  pencil  green"
      ]
     },
     "metadata": {},
     "output_type": "display_data"
    }
   ],
   "source": [
    "df1 = df.copy()\n",
    "#g = df1.groupby('Item').sum()\n",
    "#g = df1.groupby(['Item', 'Color'])\n",
    "g = df1.groupby(['Item'])\n",
    "display(g)\n",
    "gg = g.get_group('pen')\n",
    "display(gg)\n",
    "\n",
    "\n",
    "#g = df1.groupby(['Item', 'Color'])\n",
    "g = df1.groupby(['Item'])\n",
    "display(g)\n",
    "gg = g[['Item','Color']].get_group('pencil')\n",
    "#gg = g.get_group('pencil')\n",
    "display(gg)\n",
    "\n",
    "# Recommended to use\n",
    "# `df.iloc[gb.indices.get(name)`"
   ]
  },
  {
   "cell_type": "code",
   "execution_count": 222,
   "metadata": {},
   "outputs": [
    {
     "name": "stdout",
     "output_type": "stream",
     "text": [
      "Fruit = ['Apple', 'Apple', 'Apple', 'Apple', 'Apple', 'Apple', 'Apple', 'Apple', 'Orange', 'Orange', 'Orange', 'Orange', 'Banana', 'Banana', 'Banana']\n",
      "Name = ['A', 'A', 'A', 'B', 'B', 'C', 'C', 'C', 'A', 'A', 'A', 'A', 'A', 'B', 'B']\n"
     ]
    },
    {
     "data": {
      "text/html": [
       "<div>\n",
       "<style scoped>\n",
       "    .dataframe tbody tr th:only-of-type {\n",
       "        vertical-align: middle;\n",
       "    }\n",
       "\n",
       "    .dataframe tbody tr th {\n",
       "        vertical-align: top;\n",
       "    }\n",
       "\n",
       "    .dataframe thead th {\n",
       "        text-align: right;\n",
       "    }\n",
       "</style>\n",
       "<table border=\"1\" class=\"dataframe\">\n",
       "  <thead>\n",
       "    <tr style=\"text-align: right;\">\n",
       "      <th></th>\n",
       "      <th>Fruit</th>\n",
       "      <th>Name</th>\n",
       "      <th>Number</th>\n",
       "      <th>Price</th>\n",
       "    </tr>\n",
       "  </thead>\n",
       "  <tbody>\n",
       "    <tr>\n",
       "      <th>0</th>\n",
       "      <td>Apple</td>\n",
       "      <td>A</td>\n",
       "      <td>10</td>\n",
       "      <td>1.50</td>\n",
       "    </tr>\n",
       "    <tr>\n",
       "      <th>1</th>\n",
       "      <td>Apple</td>\n",
       "      <td>A</td>\n",
       "      <td>20</td>\n",
       "      <td>2.34</td>\n",
       "    </tr>\n",
       "    <tr>\n",
       "      <th>2</th>\n",
       "      <td>Apple</td>\n",
       "      <td>A</td>\n",
       "      <td>10</td>\n",
       "      <td>6.25</td>\n",
       "    </tr>\n",
       "    <tr>\n",
       "      <th>3</th>\n",
       "      <td>Apple</td>\n",
       "      <td>B</td>\n",
       "      <td>20</td>\n",
       "      <td>1.50</td>\n",
       "    </tr>\n",
       "    <tr>\n",
       "      <th>4</th>\n",
       "      <td>Apple</td>\n",
       "      <td>B</td>\n",
       "      <td>20</td>\n",
       "      <td>2.30</td>\n",
       "    </tr>\n",
       "    <tr>\n",
       "      <th>5</th>\n",
       "      <td>Apple</td>\n",
       "      <td>C</td>\n",
       "      <td>30</td>\n",
       "      <td>3.35</td>\n",
       "    </tr>\n",
       "    <tr>\n",
       "      <th>6</th>\n",
       "      <td>Apple</td>\n",
       "      <td>C</td>\n",
       "      <td>20</td>\n",
       "      <td>2.30</td>\n",
       "    </tr>\n",
       "    <tr>\n",
       "      <th>7</th>\n",
       "      <td>Apple</td>\n",
       "      <td>C</td>\n",
       "      <td>40</td>\n",
       "      <td>1.50</td>\n",
       "    </tr>\n",
       "    <tr>\n",
       "      <th>8</th>\n",
       "      <td>Orange</td>\n",
       "      <td>A</td>\n",
       "      <td>10</td>\n",
       "      <td>6.60</td>\n",
       "    </tr>\n",
       "    <tr>\n",
       "      <th>9</th>\n",
       "      <td>Orange</td>\n",
       "      <td>A</td>\n",
       "      <td>10</td>\n",
       "      <td>2.30</td>\n",
       "    </tr>\n",
       "    <tr>\n",
       "      <th>10</th>\n",
       "      <td>Orange</td>\n",
       "      <td>A</td>\n",
       "      <td>20</td>\n",
       "      <td>6.00</td>\n",
       "    </tr>\n",
       "    <tr>\n",
       "      <th>11</th>\n",
       "      <td>Orange</td>\n",
       "      <td>A</td>\n",
       "      <td>30</td>\n",
       "      <td>1.50</td>\n",
       "    </tr>\n",
       "    <tr>\n",
       "      <th>12</th>\n",
       "      <td>Banana</td>\n",
       "      <td>A</td>\n",
       "      <td>50</td>\n",
       "      <td>2.50</td>\n",
       "    </tr>\n",
       "    <tr>\n",
       "      <th>13</th>\n",
       "      <td>Banana</td>\n",
       "      <td>B</td>\n",
       "      <td>40</td>\n",
       "      <td>1.50</td>\n",
       "    </tr>\n",
       "    <tr>\n",
       "      <th>14</th>\n",
       "      <td>Banana</td>\n",
       "      <td>B</td>\n",
       "      <td>20</td>\n",
       "      <td>2.34</td>\n",
       "    </tr>\n",
       "  </tbody>\n",
       "</table>\n",
       "</div>"
      ],
      "text/plain": [
       "     Fruit Name  Number  Price\n",
       "0    Apple    A      10   1.50\n",
       "1    Apple    A      20   2.34\n",
       "2    Apple    A      10   6.25\n",
       "3    Apple    B      20   1.50\n",
       "4    Apple    B      20   2.30\n",
       "5    Apple    C      30   3.35\n",
       "6    Apple    C      20   2.30\n",
       "7    Apple    C      40   1.50\n",
       "8   Orange    A      10   6.60\n",
       "9   Orange    A      10   2.30\n",
       "10  Orange    A      20   6.00\n",
       "11  Orange    A      30   1.50\n",
       "12  Banana    A      50   2.50\n",
       "13  Banana    B      40   1.50\n",
       "14  Banana    B      20   2.34"
      ]
     },
     "execution_count": 222,
     "metadata": {},
     "output_type": "execute_result"
    }
   ],
   "source": [
    "Fruit = ['Apple']*8\n",
    "Fruit2 = ['Orange']*4\n",
    "Fruit.extend(Fruit2)\n",
    "Fruit3 = ['Banana']*3\n",
    "Fruit.extend(Fruit3)\n",
    "print('Fruit =',Fruit)\n",
    "\n",
    "\n",
    "Name = ['A']*3\n",
    "Name2 = ['B']*2\n",
    "Name3 = ['C']*3\n",
    "Name4 = ['A']*5\n",
    "Name5 = ['B']*2\n",
    "Name.extend(Name2)\n",
    "Name.extend(Name3)\n",
    "Name.extend(Name4)\n",
    "Name.extend(Name5)\n",
    "print('Name =',Name)\n",
    "\n",
    "\n",
    "Number = [10, 20, 10, 20, 20, 30, 20, 40, 10, 10, 20, 30, 50, 40, 20]\n",
    "Price = [1.5, 2.34, 6.25, 1.5, 2.30, 3.35, 2.30, 1.5, 6.6, 2.30, 6.0, 1.5, 2.50, 1.5, 2.34]\n",
    "\n",
    "dff = pd.DataFrame({'Fruit':Fruit, 'Name':Name, 'Number':Number, 'Price':Price})\n",
    "dff \n"
   ]
  },
  {
   "cell_type": "code",
   "execution_count": 223,
   "metadata": {},
   "outputs": [
    {
     "name": "stdout",
     "output_type": "stream",
     "text": [
      "Name  Fruit \n",
      "A     Apple     40\n",
      "      Banana    50\n",
      "      Orange    70\n",
      "B     Apple     40\n",
      "      Banana    60\n",
      "C     Apple     90\n",
      "Name: Number, dtype: int64\n",
      "\n",
      "Name  Fruit \n",
      "A     Apple     10.09\n",
      "      Banana     2.50\n",
      "      Orange    16.40\n",
      "B     Apple      3.80\n",
      "      Banana     3.84\n",
      "C     Apple      7.15\n",
      "Name: Price, dtype: float64\n",
      "\n",
      "Name  Fruit   Number\n",
      "A     Apple   10        7.75\n",
      "              20        2.34\n",
      "      Banana  50        2.50\n",
      "      Orange  10        8.90\n",
      "              20        6.00\n",
      "              30        1.50\n",
      "B     Apple   20        3.80\n",
      "      Banana  20        2.34\n",
      "              40        1.50\n",
      "C     Apple   20        2.30\n",
      "              30        3.35\n",
      "              40        1.50\n",
      "Name: Price, dtype: float64\n"
     ]
    }
   ],
   "source": [
    "print(dff.groupby(['Name', 'Fruit'])['Number'].sum(), end='\\n\\n')\n",
    "\n",
    "print(dff.groupby(['Name', 'Fruit'])['Price'].sum(), end='\\n\\n')\n",
    "\n",
    "print(dff.groupby(['Name', 'Fruit','Number'])['Price'].sum()) \n",
    "                         # This won't sum as 'Price' is the end brunch.\n",
    "                         # However, it'll display all the breakups.\n",
    "\n",
    "\n"
   ]
  },
  {
   "cell_type": "code",
   "execution_count": 224,
   "metadata": {},
   "outputs": [
    {
     "data": {
      "text/html": [
       "<div>\n",
       "<style scoped>\n",
       "    .dataframe tbody tr th:only-of-type {\n",
       "        vertical-align: middle;\n",
       "    }\n",
       "\n",
       "    .dataframe tbody tr th {\n",
       "        vertical-align: top;\n",
       "    }\n",
       "\n",
       "    .dataframe thead th {\n",
       "        text-align: right;\n",
       "    }\n",
       "</style>\n",
       "<table border=\"1\" class=\"dataframe\">\n",
       "  <thead>\n",
       "    <tr style=\"text-align: right;\">\n",
       "      <th></th>\n",
       "      <th></th>\n",
       "      <th>Color</th>\n",
       "    </tr>\n",
       "    <tr>\n",
       "      <th>Item</th>\n",
       "      <th>Price</th>\n",
       "      <th></th>\n",
       "    </tr>\n",
       "  </thead>\n",
       "  <tbody>\n",
       "    <tr>\n",
       "      <th>eraser</th>\n",
       "      <th>1.0</th>\n",
       "      <td>white</td>\n",
       "    </tr>\n",
       "    <tr>\n",
       "      <th rowspan=\"3\" valign=\"top\">pen</th>\n",
       "      <th>1.0</th>\n",
       "      <td>white</td>\n",
       "    </tr>\n",
       "    <tr>\n",
       "      <th>3.0</th>\n",
       "      <td>green</td>\n",
       "    </tr>\n",
       "    <tr>\n",
       "      <th>5.5</th>\n",
       "      <td>green</td>\n",
       "    </tr>\n",
       "    <tr>\n",
       "      <th rowspan=\"2\" valign=\"top\">pencil</th>\n",
       "      <th>3.0</th>\n",
       "      <td>green</td>\n",
       "    </tr>\n",
       "    <tr>\n",
       "      <th>4.0</th>\n",
       "      <td>red</td>\n",
       "    </tr>\n",
       "  </tbody>\n",
       "</table>\n",
       "</div>"
      ],
      "text/plain": [
       "              Color\n",
       "Item   Price       \n",
       "eraser 1.0    white\n",
       "pen    1.0    white\n",
       "       3.0    green\n",
       "       5.5    green\n",
       "pencil 3.0    green\n",
       "       4.0      red"
      ]
     },
     "metadata": {},
     "output_type": "display_data"
    }
   ],
   "source": [
    "g = df.groupby(['Item','Price'])\n",
    "display(g.sum())"
   ]
  },
  {
   "cell_type": "markdown",
   "metadata": {},
   "source": [
    "Extra"
   ]
  },
  {
   "cell_type": "code",
   "execution_count": 225,
   "metadata": {},
   "outputs": [
    {
     "data": {
      "text/html": [
       "<div>\n",
       "<style scoped>\n",
       "    .dataframe tbody tr th:only-of-type {\n",
       "        vertical-align: middle;\n",
       "    }\n",
       "\n",
       "    .dataframe tbody tr th {\n",
       "        vertical-align: top;\n",
       "    }\n",
       "\n",
       "    .dataframe thead th {\n",
       "        text-align: right;\n",
       "    }\n",
       "</style>\n",
       "<table border=\"1\" class=\"dataframe\">\n",
       "  <thead>\n",
       "    <tr style=\"text-align: right;\">\n",
       "      <th></th>\n",
       "      <th>species</th>\n",
       "      <th>legs</th>\n",
       "      <th>wings</th>\n",
       "    </tr>\n",
       "  </thead>\n",
       "  <tbody>\n",
       "    <tr>\n",
       "      <th>falcon</th>\n",
       "      <td>bird</td>\n",
       "      <td>2</td>\n",
       "      <td>2.0</td>\n",
       "    </tr>\n",
       "    <tr>\n",
       "      <th>horse</th>\n",
       "      <td>mammal</td>\n",
       "      <td>4</td>\n",
       "      <td>NaN</td>\n",
       "    </tr>\n",
       "    <tr>\n",
       "      <th>spider</th>\n",
       "      <td>arthropod</td>\n",
       "      <td>8</td>\n",
       "      <td>0.0</td>\n",
       "    </tr>\n",
       "    <tr>\n",
       "      <th>ostrich</th>\n",
       "      <td>bird</td>\n",
       "      <td>2</td>\n",
       "      <td>NaN</td>\n",
       "    </tr>\n",
       "  </tbody>\n",
       "</table>\n",
       "</div>"
      ],
      "text/plain": [
       "           species  legs  wings\n",
       "falcon        bird     2    2.0\n",
       "horse       mammal     4    NaN\n",
       "spider   arthropod     8    0.0\n",
       "ostrich       bird     2    NaN"
      ]
     },
     "execution_count": 225,
     "metadata": {},
     "output_type": "execute_result"
    }
   ],
   "source": [
    "import numpy as np\n",
    "dfx = pd.DataFrame([('bird', 2, 2),\n",
    "                   ('mammal', 4, np.nan),\n",
    "                   ('arthropod', 8, 0),\n",
    "                   ('bird', 2, np.nan)],\n",
    "                  index=('falcon', 'horse', 'spider', 'ostrich'),\n",
    "                  columns=('species', 'legs', 'wings'))\n",
    "dfx"
   ]
  },
  {
   "cell_type": "code",
   "execution_count": 226,
   "metadata": {},
   "outputs": [
    {
     "data": {
      "text/html": [
       "<div>\n",
       "<style scoped>\n",
       "    .dataframe tbody tr th:only-of-type {\n",
       "        vertical-align: middle;\n",
       "    }\n",
       "\n",
       "    .dataframe tbody tr th {\n",
       "        vertical-align: top;\n",
       "    }\n",
       "\n",
       "    .dataframe thead th {\n",
       "        text-align: right;\n",
       "    }\n",
       "</style>\n",
       "<table border=\"1\" class=\"dataframe\">\n",
       "  <thead>\n",
       "    <tr style=\"text-align: right;\">\n",
       "      <th></th>\n",
       "      <th>species</th>\n",
       "      <th>legs</th>\n",
       "      <th>wings</th>\n",
       "    </tr>\n",
       "  </thead>\n",
       "  <tbody>\n",
       "    <tr>\n",
       "      <th>0</th>\n",
       "      <td>bird</td>\n",
       "      <td>2.0</td>\n",
       "      <td>0.0</td>\n",
       "    </tr>\n",
       "    <tr>\n",
       "      <th>1</th>\n",
       "      <td>NaN</td>\n",
       "      <td>NaN</td>\n",
       "      <td>2.0</td>\n",
       "    </tr>\n",
       "  </tbody>\n",
       "</table>\n",
       "</div>"
      ],
      "text/plain": [
       "  species  legs  wings\n",
       "0    bird   2.0    0.0\n",
       "1     NaN   NaN    2.0"
      ]
     },
     "metadata": {},
     "output_type": "display_data"
    },
    {
     "data": {
      "text/plain": [
       "0    2.0\n",
       "1    NaN\n",
       "Name: legs, dtype: float64"
      ]
     },
     "metadata": {},
     "output_type": "display_data"
    },
    {
     "name": "stdout",
     "output_type": "stream",
     "text": [
      "[2.0, nan]\n"
     ]
    },
    {
     "data": {
      "text/html": [
       "<div>\n",
       "<style scoped>\n",
       "    .dataframe tbody tr th:only-of-type {\n",
       "        vertical-align: middle;\n",
       "    }\n",
       "\n",
       "    .dataframe tbody tr th {\n",
       "        vertical-align: top;\n",
       "    }\n",
       "\n",
       "    .dataframe thead th {\n",
       "        text-align: right;\n",
       "    }\n",
       "</style>\n",
       "<table border=\"1\" class=\"dataframe\">\n",
       "  <thead>\n",
       "    <tr style=\"text-align: right;\">\n",
       "      <th></th>\n",
       "      <th>0</th>\n",
       "      <th>1</th>\n",
       "    </tr>\n",
       "  </thead>\n",
       "  <tbody>\n",
       "    <tr>\n",
       "      <th>falcon</th>\n",
       "      <td>2.0</td>\n",
       "      <td>NaN</td>\n",
       "    </tr>\n",
       "    <tr>\n",
       "      <th>horse</th>\n",
       "      <td>4.0</td>\n",
       "      <td>NaN</td>\n",
       "    </tr>\n",
       "    <tr>\n",
       "      <th>spider</th>\n",
       "      <td>0.0</td>\n",
       "      <td>8.0</td>\n",
       "    </tr>\n",
       "    <tr>\n",
       "      <th>ostrich</th>\n",
       "      <td>2.0</td>\n",
       "      <td>NaN</td>\n",
       "    </tr>\n",
       "  </tbody>\n",
       "</table>\n",
       "</div>"
      ],
      "text/plain": [
       "           0    1\n",
       "falcon   2.0  NaN\n",
       "horse    4.0  NaN\n",
       "spider   0.0  8.0\n",
       "ostrich  2.0  NaN"
      ]
     },
     "metadata": {},
     "output_type": "display_data"
    },
    {
     "data": {
      "text/html": [
       "<div>\n",
       "<style scoped>\n",
       "    .dataframe tbody tr th:only-of-type {\n",
       "        vertical-align: middle;\n",
       "    }\n",
       "\n",
       "    .dataframe tbody tr th {\n",
       "        vertical-align: top;\n",
       "    }\n",
       "\n",
       "    .dataframe thead th {\n",
       "        text-align: right;\n",
       "    }\n",
       "</style>\n",
       "<table border=\"1\" class=\"dataframe\">\n",
       "  <thead>\n",
       "    <tr style=\"text-align: right;\">\n",
       "      <th></th>\n",
       "      <th>legs</th>\n",
       "      <th>wings</th>\n",
       "    </tr>\n",
       "  </thead>\n",
       "  <tbody>\n",
       "    <tr>\n",
       "      <th>0</th>\n",
       "      <td>2.0</td>\n",
       "      <td>0.0</td>\n",
       "    </tr>\n",
       "    <tr>\n",
       "      <th>1</th>\n",
       "      <td>NaN</td>\n",
       "      <td>2.0</td>\n",
       "    </tr>\n",
       "  </tbody>\n",
       "</table>\n",
       "</div>"
      ],
      "text/plain": [
       "   legs  wings\n",
       "0   2.0    0.0\n",
       "1   NaN    2.0"
      ]
     },
     "metadata": {},
     "output_type": "display_data"
    }
   ],
   "source": [
    "display(dfx.mode())\n",
    "\n",
    "dfx2 = dfx.mode()['legs']\n",
    "display(dfx2)\n",
    "lst = dfx2.to_list()\n",
    "print(lst)\n",
    "\n",
    "mdcol =dfx.mode(axis='columns', numeric_only=True)\n",
    "mdind = dfx.mode(axis='index', numeric_only=True)\n",
    "display(mdcol)\n",
    "display(mdind)\n",
    "\n",
    "  "
   ]
  },
  {
   "cell_type": "markdown",
   "metadata": {},
   "source": []
  }
 ],
 "metadata": {
  "kernelspec": {
   "display_name": "Python 3",
   "language": "python",
   "name": "python3"
  },
  "language_info": {
   "codemirror_mode": {
    "name": "ipython",
    "version": 3
   },
   "file_extension": ".py",
   "mimetype": "text/x-python",
   "name": "python",
   "nbconvert_exporter": "python",
   "pygments_lexer": "ipython3",
   "version": "3.11.4"
  },
  "orig_nbformat": 4
 },
 "nbformat": 4,
 "nbformat_minor": 2
}
